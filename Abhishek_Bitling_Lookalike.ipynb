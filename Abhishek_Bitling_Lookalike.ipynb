{
  "nbformat": 4,
  "nbformat_minor": 0,
  "metadata": {
    "colab": {
      "provenance": []
    },
    "kernelspec": {
      "name": "python3",
      "display_name": "Python 3"
    },
    "language_info": {
      "name": "python"
    }
  },
  "cells": [
    {
      "cell_type": "markdown",
      "source": [
        "**Task 2: Lookalike Model**\n",
        "\n",
        "The goal is to find three similar customers for each customer\n",
        "\n",
        "based on profile and transaction history.\n",
        "\n"
      ],
      "metadata": {
        "id": "RexzMrp6BgAQ"
      }
    },
    {
      "cell_type": "markdown",
      "source": [
        "**1.Data Preprocessing**"
      ],
      "metadata": {
        "id": "R6RJ_zgBBs7g"
      }
    },
    {
      "cell_type": "code",
      "execution_count": 1,
      "metadata": {
        "id": "cVAFRyQJBKhc"
      },
      "outputs": [],
      "source": [
        "import pandas as pd\n",
        "\n",
        "# Load the datasets\n",
        "customers_df = pd.read_csv(\"Customers.csv\")\n",
        "transactions_df = pd.read_csv(\"Transactions.csv\")\n",
        "\n",
        "# Convert date columns to datetime format\n",
        "customers_df[\"SignupDate\"] = pd.to_datetime(customers_df[\"SignupDate\"])\n",
        "transactions_df[\"TransactionDate\"] = pd.to_datetime(transactions_df[\"TransactionDate\"])\n",
        "\n",
        "# Aggregate transaction data per customer\n",
        "customer_transactions = transactions_df.groupby(\"CustomerID\").agg(\n",
        "    total_spent=(\"TotalValue\", \"sum\"),\n",
        "    total_purchases=(\"TransactionID\", \"count\"),\n",
        "    avg_purchase_value=(\"TotalValue\", \"mean\"),\n",
        ").reset_index()\n",
        "\n",
        "# Merge with customer profiles\n",
        "customer_features = customers_df.merge(customer_transactions, on=\"CustomerID\", how=\"left\").fillna(0)\n"
      ]
    },
    {
      "cell_type": "markdown",
      "source": [
        "**2.Compute Customer Similarity**\n",
        "\n",
        "We'll use cosine similarity to find customers who are most similar\n",
        "\n",
        "based on transaction behavior."
      ],
      "metadata": {
        "id": "6XpYxiPNB1Y_"
      }
    },
    {
      "cell_type": "code",
      "source": [
        "from sklearn.preprocessing import StandardScaler\n",
        "from sklearn.metrics.pairwise import cosine_similarity\n",
        "\n",
        "# Select numerical features for similarity calculation\n",
        "features = [\"total_spent\", \"total_purchases\", \"avg_purchase_value\"]\n",
        "\n",
        "# Normalize the data\n",
        "scaler = StandardScaler()\n",
        "customer_features_scaled = scaler.fit_transform(customer_features[features])\n",
        "\n",
        "# Compute similarity matrix\n",
        "similarity_matrix = cosine_similarity(customer_features_scaled)\n",
        "similarity_df = pd.DataFrame(similarity_matrix, index=customer_features[\"CustomerID\"], columns=customer_features[\"CustomerID\"])\n"
      ],
      "metadata": {
        "id": "Uh2BbbQyB3mY"
      },
      "execution_count": 2,
      "outputs": []
    },
    {
      "cell_type": "markdown",
      "source": [
        "**3.Find the 3 Most Similar Customers**\n",
        "\n",
        "For each customer, find the top 3 most similar customers."
      ],
      "metadata": {
        "id": "3fhBY9PqCDYm"
      }
    },
    {
      "cell_type": "code",
      "source": [
        "lookalike_results = {}\n",
        "\n",
        "for customer_id in customer_features[\"CustomerID\"]:\n",
        "    # Get top 3 similar customers (excluding itself)\n",
        "    similar_customers = similarity_df[customer_id].sort_values(ascending=False).iloc[1:4]\n",
        "    lookalike_results[customer_id] = list(zip(similar_customers.index, similar_customers.values))\n",
        "\n",
        "# Save as CSV\n",
        "import csv\n",
        "\n",
        "with open(\"Abhishek_Bitling_Lookalike.csv\", \"w\", newline=\"\") as file:\n",
        "    writer = csv.writer(file)\n",
        "    writer.writerow([\"CustomerID\", \"LookalikeCustomers\"])\n",
        "    for key, value in lookalike_results.items():\n",
        "        writer.writerow([key, value])"
      ],
      "metadata": {
        "id": "U_V5CTkTCAEU"
      },
      "execution_count": 4,
      "outputs": []
    }
  ]
}